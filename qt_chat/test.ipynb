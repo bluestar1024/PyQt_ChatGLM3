{
 "cells": [
  {
   "cell_type": "code",
   "execution_count": 3,
   "metadata": {
    "metadata": {}
   },
   "outputs": [],
   "source": [
    "def str_to_bool_test():\n",
    "    print(\"空字符串转成布尔类型：\", bool(\"\"))  # 空字符串\n",
    "    print(\"非空字符串转成布尔类型：\", bool(\"False\"))  # 非空字符串\n",
    "    print(\"123非空字符串转成布尔类型：\", bool(\"123\"))\n",
    "\n",
    "def bool_to_str_test():\n",
    "    print(\"布尔类型的True转换成字符串类型\", str(True))  # 将布尔类型的True转换成字符串类型\n",
    "    print(\"布尔类型的False转换成字符串类型\", str(False))  # 将布尔类型的False转换成字符串类型\n",
    "\n",
    "if __name__ == '__main__':\n",
    "    str_to_bool_test()\n",
    "    bool_to_str_test()"
   ]
  }
 ],
 "metadata": {
  "kernelspec": {
   "display_name": "qt_chat",
   "language": "python",
   "name": "python3"
  },
  "language_info": {
   "codemirror_mode": {
    "name": "ipython",
    "version": 3
   },
   "file_extension": ".py",
   "mimetype": "text/x-python",
   "name": "python",
   "nbconvert_exporter": "python",
   "pygments_lexer": "ipython3",
   "version": "3.11.7"
  }
 },
 "nbformat": 4,
 "nbformat_minor": 2
}
